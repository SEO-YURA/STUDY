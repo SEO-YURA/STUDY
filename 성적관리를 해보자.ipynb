{
 "cells": [
  {
   "cell_type": "code",
   "execution_count": 176,
   "metadata": {},
   "outputs": [],
   "source": [
    "import sys\n",
    "\n",
    "f = open(\"C:/Users/PIRL/Desktop/AI/students.txt\", \"r\")\n",
    "\n",
    "stus = []\n",
    "\n",
    "data = f.read()\n",
    "data = data.split('\\n')\n",
    "\n",
    "for i in range(0, len(data)-1):\n",
    "    dic = {}\n",
    "    student = data[i].split(\"\\t\")\n",
    "\n",
    "    dic['stu_id'] = student[0]\n",
    "    dic['stu_name'] = student[1]\n",
    "    dic['mid'] = student[2]\n",
    "    dic[\"final\"] = student[3]\n",
    "    avg = (int(dic['mid']) + int(dic['final'])) / 2\n",
    "    dic[\"stu_avg\"] = avg\n",
    "    dic['stu_grade'] = grade(avg)\n",
    "\n",
    "    stus.append(dic)\n",
    "    \n",
    "def grade(avg):\n",
    "    if avg >= 90:\n",
    "        return \"A\"\n",
    "    elif avg >= 80:\n",
    "        return \"B\"\n",
    "    elif avg >= 70:\n",
    "        return \"C\"\n",
    "    elif avg >= 60:\n",
    "        return \"D\"\n",
    "    else:\n",
    "        return \"F\""
   ]
  },
  {
   "cell_type": "code",
   "execution_count": 177,
   "metadata": {},
   "outputs": [
    {
     "data": {
      "text/plain": [
       "[{'stu_id': '20180001',\n",
       "  'stu_name': 'Hong Gildong',\n",
       "  'mid': '84',\n",
       "  'final': '73',\n",
       "  'stu_avg': 78.5,\n",
       "  'stu_grade': 'C'},\n",
       " {'stu_id': '20180002',\n",
       "  'stu_name': 'Lee Jieun',\n",
       "  'mid': '92',\n",
       "  'final': '89',\n",
       "  'stu_avg': 90.5,\n",
       "  'stu_grade': 'A'},\n",
       " {'stu_id': '20180007',\n",
       "  'stu_name': 'Kim Cheolsu',\n",
       "  'mid': '57',\n",
       "  'final': '62',\n",
       "  'stu_avg': 59.5,\n",
       "  'stu_grade': 'F'},\n",
       " {'stu_id': '20180009',\n",
       "  'stu_name': 'Lee Yeonghee',\n",
       "  'mid': '81',\n",
       "  'final': '84',\n",
       "  'stu_avg': 82.5,\n",
       "  'stu_grade': 'B'},\n",
       " {'stu_id': '20180011',\n",
       "  'stu_name': 'Ha Donghun',\n",
       "  'mid': '58',\n",
       "  'final': '68',\n",
       "  'stu_avg': 63.0,\n",
       "  'stu_grade': 'D'}]"
      ]
     },
     "execution_count": 177,
     "metadata": {},
     "output_type": "execute_result"
    }
   ],
   "source": [
    "stus"
   ]
  },
  {
   "cell_type": "code",
   "execution_count": 178,
   "metadata": {},
   "outputs": [],
   "source": [
    "def show(stus):\n",
    "    stus = sorted(stus, key = lambda stu: stu['stu_avg'], reverse=True)\n",
    "\n",
    "    print(\"Student\\t\\tName\\t\\tMidterm\\tFinal\\tAverage\\tGrade\")\n",
    "    print(\"--------------------------------------------------------------\")\n",
    "    \n",
    "    for stu in stus:\n",
    "        print(stu['stu_id'],'    ', stu['stu_name'], '\\t', stu['mid'], '\\t', stu['final'], '\\t', stu['stu_avg'], '\\t', stu['stu_grade'])"
   ]
  },
  {
   "cell_type": "code",
   "execution_count": 179,
   "metadata": {},
   "outputs": [
    {
     "name": "stdout",
     "output_type": "stream",
     "text": [
      "Student\t\tName\t\tMidterm\tFinal\tAverage\tGrade\n",
      "--------------------------------------------------------------\n",
      "20180002      Lee Jieun \t 92 \t 89 \t 90.5 \t A\n",
      "20180009      Lee Yeonghee \t 81 \t 84 \t 82.5 \t B\n",
      "20180001      Hong Gildong \t 84 \t 73 \t 78.5 \t C\n",
      "20180011      Ha Donghun \t 58 \t 68 \t 63.0 \t D\n",
      "20180007      Kim Cheolsu \t 57 \t 62 \t 59.5 \t F\n"
     ]
    }
   ],
   "source": [
    "show(stus)"
   ]
  },
  {
   "cell_type": "code",
   "execution_count": 180,
   "metadata": {},
   "outputs": [],
   "source": [
    "def search(stus):\n",
    "    id = input(\"Student ID: \")\n",
    "    \n",
    "    for i in stus:\n",
    "        if id == i['stu_id']:\n",
    "            print(\"Student\\t\\tName\\t\\tMidterm\\tFinal\\tAverage\\tGrade\")\n",
    "            print(\"--------------------------------------------------------------\")\n",
    "            print(i['stu_id'],'    ', i['stu_name'], '\\t', i['mid'], '\\t', i['final'], '\\t', i['stu_avg'], '\\t', i['stu_grade'])        \n",
    "            return\n",
    "    print(\"NO SUCH PERSON.\")\n",
    "    return"
   ]
  },
  {
   "cell_type": "code",
   "execution_count": 184,
   "metadata": {},
   "outputs": [
    {
     "name": "stdout",
     "output_type": "stream",
     "text": [
      "Student ID: 20180007\n",
      "Student\t\tName\t\tMidterm\tFinal\tAverage\tGrade\n",
      "--------------------------------------------------------------\n",
      "20180007      Kim Cheolsu \t 75 \t 62 \t 68.5 \t D\n"
     ]
    }
   ],
   "source": [
    "search(stus)"
   ]
  },
  {
   "cell_type": "code",
   "execution_count": 191,
   "metadata": {},
   "outputs": [],
   "source": [
    "def changescore(stus):\n",
    "    id = input(\"Student ID: \")\n",
    "\n",
    "    for i in stus:\n",
    "        if id == i['stu_id']:\n",
    "            mid_final = input(\"Mid/Final?: \")\n",
    "            if mid_final == \"mid\" or mid_final == \"final\":\n",
    "                score = input(\"Input new socre: \")\n",
    "                if (int(score) >= 0 and int(score) <= 100):\n",
    "                    print(\"Student\\t\\tName\\t\\tMidterm\\tFinal\\tAverage\\tGrade\")\n",
    "                    print(\"--------------------------------------------------------------\")\n",
    "                    print(i['stu_id'],'    ', i['stu_name'], '\\t', i['mid'], '\\t', i['final'], '\\t', i['stu_avg'], '\\t', i['stu_grade'])\n",
    "                    \n",
    "                    i[mid_final] = score\n",
    "                    i['stu_avg'] = (int(i['mid']) + int(i['final'])) / 2.0\n",
    "                    i['stu_grade'] = grade(i['stu_avg'])\n",
    "                    print(\"Score changed\")\n",
    "                     \n",
    "                    # 바뀐 후 점수 출력\n",
    "                    print(\"Student\\t\\tName\\t\\tMidterm\\tFinal\\tAverage\\tGrade\")\n",
    "                    print(\"--------------------------------------------------------------\")\n",
    "                    print(i['stu_id'],'    ', i['stu_name'], '\\t', i['mid'], '\\t', i['final'], '\\t', i['stu_avg'], '\\t', i['stu_grade'])\n",
    "                    \n",
    "                    return\n",
    "                else:\n",
    "                    return\n",
    "            else:\n",
    "                return\n",
    "    print(\"NO SUCH PERSON\")"
   ]
  },
  {
   "cell_type": "code",
   "execution_count": 192,
   "metadata": {},
   "outputs": [
    {
     "name": "stdout",
     "output_type": "stream",
     "text": [
      "Student ID: 20180007\n",
      "Mid/Final?: mid\n",
      "Input new socre: 88\n",
      "Student\t\tName\t\tMidterm\tFinal\tAverage\tGrade\n",
      "--------------------------------------------------------------\n",
      "20180007      Kim Cheolsu \t 75 \t 62 \t 68.5 \t D\n",
      "Score changed\n",
      "Student\t\tName\t\tMidterm\tFinal\tAverage\tGrade\n",
      "--------------------------------------------------------------\n",
      "20180007      Kim Cheolsu \t 88 \t 62 \t 75.0 \t C\n",
      "NO SUCH PERSON\n"
     ]
    }
   ],
   "source": [
    "changescore(stus)"
   ]
  },
  {
   "cell_type": "code",
   "execution_count": null,
   "metadata": {},
   "outputs": [],
   "source": []
  }
 ],
 "metadata": {
  "kernelspec": {
   "display_name": "Python 3",
   "language": "python",
   "name": "python3"
  },
  "language_info": {
   "codemirror_mode": {
    "name": "ipython",
    "version": 3
   },
   "file_extension": ".py",
   "mimetype": "text/x-python",
   "name": "python",
   "nbconvert_exporter": "python",
   "pygments_lexer": "ipython3",
   "version": "3.7.3"
  }
 },
 "nbformat": 4,
 "nbformat_minor": 2
}
